{
 "cells": [
  {
   "cell_type": "markdown",
   "id": "1967825a",
   "metadata": {},
   "source": [
    "## my_kmeans 함수"
   ]
  },
  {
   "cell_type": "code",
   "execution_count": 57,
   "id": "e9d66831",
   "metadata": {},
   "outputs": [],
   "source": [
    "def my_kmeans(test, k, random_state=None):\n",
    "    import numpy as np\n",
    "    import pandas as pd\n",
    "    test2 = np.array(test.copy())\n",
    "    test2 = pd.DataFrame(test2)\n",
    "    np.random.seed(random_state)\n",
    "    temp_cluster = test2.iloc[np.random.choice(len(test2), k, replace=False), :]\n",
    "    cluster = temp_cluster.copy() #SettingWithCopyWarning를 없애기 위해서...\n",
    "    cluster['kind'] = np.random.choice(k, k, replace=False)\n",
    "    a = pd.DataFrame({'kind':[999]*len(test2), 'd':[9999999]*len(test2)})\n",
    "    a = pd.concat([test2, a], axis=1)\n",
    "    while True:\n",
    "        t_cluster = cluster.copy() #반복문을 끝내는 조건을 만들기위해\n",
    "        for i in cluster['kind']:\n",
    "            #행렬연산(넘파이)를 이용한 거리계산\n",
    "            temp = (test2.values - cluster[cluster['kind']==i].iloc[:, :-1].values)**2\n",
    "            temp = np.sqrt(np.sum(temp, axis=1))\n",
    "            ###SettingWithCopyWarning를 없애기 위한과정 시작###\n",
    "            ak = []\n",
    "            ad = []\n",
    "            for j in range(len(temp)):\n",
    "                if a['d'][j] > temp[j]:\n",
    "                    ak.append(i)\n",
    "                    ad.append(temp[j])\n",
    "                else:\n",
    "                    ak.append(a['kind'][j])\n",
    "                    ad.append(a['d'][j])\n",
    "            a['kind'] = ak\n",
    "            a['d'] = ad\n",
    "            ###SettingWithCopyWarning를 없애기 위한과정 끝###\n",
    "            #데이터프레임의 일부 컬럼의 데이터만 변경하기 위한 방법\n",
    "            c = cluster[cluster['kind']==i].copy()\n",
    "            c.iloc[:,:-1] = np.mean(a[a['kind']==i].iloc[:,:-2])\n",
    "            cluster[cluster['kind']==i] = c\n",
    "        if np.sum(np.abs(t_cluster-cluster)).sum()==0: #반복문 끝내는 조건\n",
    "            return np.array(a['kind'])\n",
    "            break"
   ]
  },
  {
   "cell_type": "markdown",
   "id": "563f94d6",
   "metadata": {},
   "source": [
    "## 유방암 데이터로 사이킷런의 KMeans와 성능 비교"
   ]
  },
  {
   "cell_type": "markdown",
   "id": "b6abfd28",
   "metadata": {},
   "source": [
    "### 데이터 준비"
   ]
  },
  {
   "cell_type": "code",
   "execution_count": 58,
   "id": "9e0295b3",
   "metadata": {},
   "outputs": [],
   "source": [
    "import pandas as pd\n",
    "wisc = pd.read_csv(\"wisc_bc_data.csv\")\n",
    "x = wisc.iloc[:, 2:]\n",
    "y = wisc['diagnosis']\n",
    "from sklearn.preprocessing import MinMaxScaler\n",
    "scaler = MinMaxScaler()\n",
    "scaler.fit(x)\n",
    "x2 = scaler.transform(x)\n",
    "from sklearn.model_selection import train_test_split\n",
    "x_train, x_test, y_train, y_test = train_test_split(x2, y, test_size=0.9, random_state=1)"
   ]
  },
  {
   "cell_type": "markdown",
   "id": "6112a553",
   "metadata": {},
   "source": [
    "### 모델 생성 및 예측"
   ]
  },
  {
   "cell_type": "code",
   "execution_count": 70,
   "id": "da101b8e",
   "metadata": {},
   "outputs": [],
   "source": [
    "from sklearn.cluster import KMeans\n",
    "model_sk = KMeans(n_clusters = 2, random_state=1)\n",
    "model_sk.fit(x_train, y_train)\n",
    "result_sk = model_sk.predict(x_test)\n",
    "result_my = my_kmeans(x_test, 2, random_state=1)"
   ]
  },
  {
   "cell_type": "markdown",
   "id": "dd141311",
   "metadata": {},
   "source": [
    "### 성능 비교"
   ]
  },
  {
   "cell_type": "code",
   "execution_count": 71,
   "id": "f68010c7",
   "metadata": {
    "scrolled": false
   },
   "outputs": [
    {
     "name": "stdout",
     "output_type": "stream",
     "text": [
      "####### 사이킷런 kmeans #######\n",
      "diagnosis    B    M\n",
      "row_0              \n",
      "0          321   37\n",
      "1            3  152\n",
      "####### my kmeans #######\n",
      "diagnosis    B    M\n",
      "row_0              \n",
      "0          113    4\n",
      "1          211  185\n"
     ]
    }
   ],
   "source": [
    "print('####### 사이킷런 kmeans #######')\n",
    "print(pd.crosstab(result_sk, y_test))\n",
    "print('####### my kmeans #######')\n",
    "print(pd.crosstab(result_my, y_test))"
   ]
  },
  {
   "cell_type": "markdown",
   "id": "6e3cd980",
   "metadata": {},
   "source": [
    "### 성능 비교 결과\n",
    "* 성능 비교 결과\n",
    "    1. 사이킷런의 분류결과가 더 좋게 나왔다.\n",
    "    2. 사이킷런은 씨드값(random_state)에 따른 변화가 없었으나,\n",
    "        만든 kmeans는 씨드값에 따라서 분류결과의 격차가 컸다.\n",
    "* 검토 및 개선 방향\n",
    "    1. my_kmeans는 처음 클러스터 중심이 완전 랜덤이다보니 씨드값에 따른 변화가 크다.\n",
    "    2. 그러므로 처음 클러스터 중심을 랜덤이 아닌 데이터의 중앙값으로 설정해서\n",
    "        분류에 좀 더 특화된 옵션을 추가하자."
   ]
  },
  {
   "cell_type": "code",
   "execution_count": 64,
   "id": "e8d7b9b7",
   "metadata": {},
   "outputs": [],
   "source": [
    "def my_kmeans(test, k, random_state=None, init='random'):\n",
    "    import numpy as np\n",
    "    import pandas as pd\n",
    "    test2 = np.array(test.copy())\n",
    "    test2 = pd.DataFrame(test2)\n",
    "    np.random.seed(random_state)\n",
    "    #####초기 클러스터 중앙 설정 코드 시작#####\n",
    "    if init == 'random':\n",
    "        temp_cluster = test2.iloc[np.random.choice(len(test2), k, replace=False), :]\n",
    "        cluster = temp_cluster.copy() #SettingWithCopyWarning를 없애기 위해서...\n",
    "    elif init == 'median':\n",
    "        cluster=[]\n",
    "        for j in range(k):\n",
    "            c=[]\n",
    "            for i in test2.columns:\n",
    "                m = (test2[i][pd.qcut(test2[i], k, labels=list(range(k)))==j]).median()\n",
    "                c.append(m)\n",
    "            cluster.append(c)\n",
    "        cluster = pd.DataFrame(cluster)\n",
    "    elif init == 'mean':\n",
    "        cluster=[]\n",
    "        for j in range(k):\n",
    "            c=[]\n",
    "            for i in test2.columns:\n",
    "                m = (test2[i][pd.qcut(test2[i], k, labels=list(range(k)))==j]).mean()\n",
    "                c.append(m)\n",
    "            cluster.append(c)\n",
    "        cluster = pd.DataFrame(cluster)\n",
    "    #####초기 클러스터 중앙 설정 코드 끝#####   \n",
    "    cluster['kind'] = np.random.choice(k, k, replace=False)\n",
    "    a = pd.DataFrame({'kind':[999]*len(test2), 'd':[9999999]*len(test2)})\n",
    "    a = pd.concat([test2, a], axis=1)\n",
    "    while True:\n",
    "        t_cluster = cluster.copy() #반복문을 끝내는 조건을 만들기위해\n",
    "        for i in cluster['kind']:\n",
    "            #행렬연산(넘파이)를 이용한 거리계산\n",
    "            temp = (test2.values - cluster[cluster['kind']==i].iloc[:, :-1].values)**2\n",
    "            temp = np.sqrt(np.sum(temp, axis=1))\n",
    "            #####SettingWithCopyWarning를 없애기 위한 방법 코드 시작#####\n",
    "            ak = []\n",
    "            ad = []\n",
    "            for j in range(len(temp)):\n",
    "                if a['d'][j] > temp[j]:\n",
    "                    ak.append(i)\n",
    "                    ad.append(temp[j])\n",
    "                else:\n",
    "                    ak.append(a['kind'][j])\n",
    "                    ad.append(a['d'][j])\n",
    "            a['kind'] = ak\n",
    "            a['d'] = ad\n",
    "            #####SettingWithCopyWarning를 없애기 위한 방법 코드 끝#####\n",
    "            #데이터프레임의 일부 컬럼의 데이터만 변경하기 위한 방법\n",
    "            c = cluster[cluster['kind']==i].copy()\n",
    "            c.iloc[:,:-1] = np.mean(a[a['kind']==i].iloc[:,:-2])\n",
    "            cluster[cluster['kind']==i] = c\n",
    "        if np.sum(np.abs(t_cluster-cluster)).sum()==0: #반복문 끝내는 조건\n",
    "            return np.array(a['kind'])\n",
    "            break"
   ]
  },
  {
   "cell_type": "markdown",
   "id": "497328c7",
   "metadata": {},
   "source": [
    "### 함수 개선 후 성능 비교"
   ]
  },
  {
   "cell_type": "code",
   "execution_count": 69,
   "id": "05156780",
   "metadata": {},
   "outputs": [
    {
     "name": "stdout",
     "output_type": "stream",
     "text": [
      "####### 사이킷런 kmeans #######\n",
      "diagnosis    B    M\n",
      "row_0              \n",
      "0          321   37\n",
      "1            3  152\n",
      "####### my kmeans #######\n",
      "diagnosis    B    M\n",
      "row_0              \n",
      "0          311   35\n",
      "1           13  154\n"
     ]
    }
   ],
   "source": [
    "from sklearn.cluster import KMeans\n",
    "model_sk = KMeans(n_clusters = 2, random_state=1)\n",
    "model_sk.fit(x_train, y_train)\n",
    "result_sk = model_sk.predict(x_test)\n",
    "result_my = my_kmeans(x_test, 2, random_state=1, init='median')\n",
    "print('####### 사이킷런 kmeans #######')\n",
    "print(pd.crosstab(result_sk, y_test))\n",
    "print('####### my kmeans #######')\n",
    "print(pd.crosstab(result_my, y_test))"
   ]
  }
 ],
 "metadata": {
  "kernelspec": {
   "display_name": "Python 3",
   "language": "python",
   "name": "python3"
  },
  "language_info": {
   "codemirror_mode": {
    "name": "ipython",
    "version": 3
   },
   "file_extension": ".py",
   "mimetype": "text/x-python",
   "name": "python",
   "nbconvert_exporter": "python",
   "pygments_lexer": "ipython3",
   "version": "3.8.5"
  }
 },
 "nbformat": 4,
 "nbformat_minor": 5
}
